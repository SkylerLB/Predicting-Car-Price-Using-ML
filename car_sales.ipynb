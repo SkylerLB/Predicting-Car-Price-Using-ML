{
 "cells": [
  {
   "cell_type": "markdown",
   "id": "0d372103",
   "metadata": {},
   "source": [
    "## EDA"
   ]
  },
  {
   "cell_type": "code",
   "execution_count": null,
   "id": "f5addfcb",
   "metadata": {},
   "outputs": [],
   "source": [
    "%matplotlib inline\n",
    "import matplotlib.pyplot as plt\n",
    "import numpy as np\n",
    "import pandas as pd\n",
    "import seaborn as sns"
   ]
  },
  {
   "cell_type": "code",
   "execution_count": null,
   "id": "11417030",
   "metadata": {},
   "outputs": [],
   "source": [
    "# Loading our dataset\n",
    "car_sales = pd.read_csv('data/car_sales.csv')"
   ]
  },
  {
   "cell_type": "code",
   "execution_count": null,
   "id": "daf88895",
   "metadata": {},
   "outputs": [],
   "source": [
    "type(car_sales)"
   ]
  },
  {
   "cell_type": "code",
   "execution_count": null,
   "id": "f59cf5e3",
   "metadata": {},
   "outputs": [],
   "source": [
    "car_sales.head()"
   ]
  },
  {
   "cell_type": "code",
   "execution_count": null,
   "id": "c22661c9",
   "metadata": {},
   "outputs": [],
   "source": [
    "car_sales.info()"
   ]
  },
  {
   "cell_type": "code",
   "execution_count": null,
   "id": "02d125cb",
   "metadata": {},
   "outputs": [],
   "source": [
    "car_sales.describe()"
   ]
  },
  {
   "cell_type": "code",
   "execution_count": null,
   "id": "6df3fc35",
   "metadata": {},
   "outputs": [],
   "source": [
    "car_sales.dtypes"
   ]
  },
  {
   "cell_type": "code",
   "execution_count": null,
   "id": "8d996378",
   "metadata": {},
   "outputs": [],
   "source": [
    "car_sales.isna().sum()"
   ]
  },
  {
   "cell_type": "code",
   "execution_count": null,
   "id": "927db5af",
   "metadata": {},
   "outputs": [],
   "source": [
    "car_sales.dropna(subset=['Price'], inplace=True)"
   ]
  },
  {
   "cell_type": "code",
   "execution_count": null,
   "id": "684ceb57",
   "metadata": {},
   "outputs": [],
   "source": [
    "plt.figure(figsize=(12,6))\n",
    "sns.histplot(car_sales['Price'], kde=True)\n",
    "plt.title('Price Distribution')\n",
    "plt.show()"
   ]
  },
  {
   "cell_type": "markdown",
   "id": "03959c3e",
   "metadata": {},
   "source": [
    "## Data Preprocessing"
   ]
  },
  {
   "cell_type": "code",
   "execution_count": null,
   "id": "a256bf91",
   "metadata": {},
   "outputs": [],
   "source": [
    "from sklearn.compose import ColumnTransformer\n",
    "from sklearn.preprocessing import OneHotEncoder\n",
    "from sklearn.pipeline import Pipeline\n",
    "from sklearn.impute import SimpleImputer"
   ]
  },
  {
   "cell_type": "code",
   "execution_count": null,
   "id": "d6a881d8",
   "metadata": {},
   "outputs": [],
   "source": [
    "categorical_features = ['Make', 'Colour']\n",
    "\n",
    "categorical_transformer = Pipeline(steps=[\n",
    "    ('imputer', SimpleImputer(strategy='constant', fill_value='missing')),\n",
    "    ('onehot', OneHotEncoder(handle_unknown='ignore'))\n",
    "])"
   ]
  },
  {
   "cell_type": "code",
   "execution_count": null,
   "id": "adc965ea",
   "metadata": {},
   "outputs": [],
   "source": [
    "numerical_features = ['Odometer (KM)']\n",
    "\n",
    "numerical_transformer = Pipeline(steps=[\n",
    "    ('imputer', SimpleImputer(strategy='median'))\n",
    "])"
   ]
  },
  {
   "cell_type": "code",
   "execution_count": null,
   "id": "d58fc337",
   "metadata": {},
   "outputs": [],
   "source": [
    "# Define Doors features\n",
    "door_feature = [\"Doors\"]\n",
    "\n",
    "# Create Doors transformer Pipeline\n",
    "door_transformer = Pipeline(steps=[\n",
    "    # Set SimpleImputer strategy to \"constant\" and fill value to 4\n",
    "    (\"imputer\", SimpleImputer(strategy=\"constant\", fill_value=4))])"
   ]
  },
  {
   "cell_type": "code",
   "execution_count": null,
   "id": "cdced7e6",
   "metadata": {},
   "outputs": [],
   "source": [
    "# Data preprocessing\n",
    "\n",
    "preprocessor = ColumnTransformer(\n",
    "    transformers=[\n",
    "        ('cat', categorical_transformer, categorical_features),\n",
    "        ('num', numerical_transformer, numerical_features),\n",
    "        ('door', door_transformer, door_feature)\n",
    "])"
   ]
  },
  {
   "cell_type": "markdown",
   "id": "afb645dc",
   "metadata": {},
   "source": [
    "## Model Building + Evaluation (Default Metrics)"
   ]
  },
  {
   "cell_type": "code",
   "execution_count": null,
   "id": "4acec322",
   "metadata": {},
   "outputs": [],
   "source": [
    "X = car_sales.drop('Price', axis=1)\n",
    "y = car_sales['Price']"
   ]
  },
  {
   "cell_type": "code",
   "execution_count": null,
   "id": "4777c939",
   "metadata": {},
   "outputs": [],
   "source": [
    "from sklearn.model_selection import train_test_split\n",
    "\n",
    "X_train, X_test, y_train, y_test = train_test_split(X, y, test_size=0.2, random_state=42)"
   ]
  },
  {
   "cell_type": "code",
   "execution_count": null,
   "id": "f33613e2",
   "metadata": {},
   "outputs": [],
   "source": [
    "X_train.shape, y_train.shape, X_test.shape, y_test.shape"
   ]
  },
  {
   "cell_type": "code",
   "execution_count": null,
   "id": "6add0c40",
   "metadata": {},
   "outputs": [],
   "source": [
    "# Import Ridge from sklearn's linear_model module\n",
    "from sklearn.linear_model import Ridge\n",
    "\n",
    "# Import SVR from sklearn's svm module\n",
    "from sklearn.svm import SVR\n",
    "\n",
    "# Import RandomForestRegressor from sklearn's ensemble module\n",
    "from sklearn.ensemble import RandomForestRegressor"
   ]
  },
  {
   "cell_type": "code",
   "execution_count": null,
   "id": "678ed3a7",
   "metadata": {},
   "outputs": [],
   "source": [
    "# Create dictionary of model instances, there should be 4 total key, value pairs\n",
    "# in the form {\"model_name\": model_instance}.\n",
    "# Don't forget there's two versions of SVR, one with a \"linear\" kernel and the\n",
    "# other with kernel set to \"rbf\".\n",
    "\n",
    "regression_models = {\n",
    "    'Ridge' : Pipeline(steps=[\n",
    "        ('preprocessor', preprocessor),\n",
    "        ('regressor', Ridge()),\n",
    "    ]),\n",
    "    'SVR_linear' : Pipeline(steps=[\n",
    "        ('preprocessor', preprocessor),\n",
    "        ('regressor', SVR(kernel='linear'))\n",
    "    ]),\n",
    "    'SVR_rbf' : Pipeline(steps=[\n",
    "        ('preprocessor', preprocessor),\n",
    "        ('regressor', SVR(kernel='rbf'))\n",
    "    ]),\n",
    "    'RandomForestRegressor' : Pipeline(steps=[\n",
    "        ('preprocessor', preprocessor),\n",
    "        ('regressor', RandomForestRegressor())\n",
    "    ])\n",
    "}\n",
    "\n",
    "results = {}"
   ]
  },
  {
   "cell_type": "code",
   "execution_count": null,
   "id": "8bfd9a6b",
   "metadata": {},
   "outputs": [],
   "source": [
    "np.random.seed(42)\n",
    "\n",
    "for model_name, model in regression_models.items():\n",
    "    model.fit(X_train, y_train)\n",
    "    results[model_name] = model.score(X_test, y_test)\n",
    "\n",
    "results"
   ]
  },
  {
   "cell_type": "markdown",
   "id": "cf55bb53",
   "metadata": {},
   "source": [
    "## Evaluating Ridge Regression Model With Other Metrics"
   ]
  },
  {
   "cell_type": "code",
   "execution_count": null,
   "id": "964b3ccb",
   "metadata": {},
   "outputs": [],
   "source": [
    "# Import mean_absolute_error from sklearn's metrics module\n",
    "###\n",
    "from sklearn.metrics import mean_absolute_error\n",
    "\n",
    "# Import mean_squared_error from sklearn's metrics module\n",
    "###\n",
    "from sklearn.metrics import mean_squared_error\n",
    "\n",
    "# Import r2_score from sklearn's metrics module\n",
    "###\n",
    "from sklearn.metrics import r2_score"
   ]
  },
  {
   "cell_type": "code",
   "execution_count": null,
   "id": "93d9278b",
   "metadata": {},
   "outputs": [],
   "source": [
    "ridge_pipeline = Pipeline(steps=[\n",
    "    ('preprocessor', preprocessor),\n",
    "    ('regressor', Ridge())\n",
    "])\n",
    "\n",
    "ridge_pipeline.fit(X_train, y_train)\n",
    "\n",
    "y_preds = ridge_pipeline.predict(X_test)\n",
    "y_preds[:50]"
   ]
  },
  {
   "cell_type": "code",
   "execution_count": null,
   "id": "522ed609",
   "metadata": {},
   "outputs": [],
   "source": [
    "regression_metrics = {\n",
    "    'MSE' : mean_squared_error(y_test,y_preds),\n",
    "    'MAE' : mean_absolute_error(y_test, y_preds),\n",
    "    'R2S' : r2_score(y_test, y_preds)\n",
    "}\n",
    "\n",
    "for model_name, model_score in regression_metrics.items():\n",
    "    print(f'{model_name} : {model_score}')"
   ]
  },
  {
   "cell_type": "code",
   "execution_count": null,
   "id": "86c78eae",
   "metadata": {},
   "outputs": [],
   "source": [
    "mse = mean_squared_error(y_test, y_preds)\n",
    "mse"
   ]
  },
  {
   "cell_type": "code",
   "execution_count": null,
   "id": "09656b03",
   "metadata": {},
   "outputs": [],
   "source": [
    "mae = mean_absolute_error(y_test, y_preds)\n",
    "mae"
   ]
  },
  {
   "cell_type": "code",
   "execution_count": null,
   "id": "58fe33d2",
   "metadata": {},
   "outputs": [],
   "source": [
    "r2s = r2_score(y_test, y_preds)\n",
    "r2s"
   ]
  },
  {
   "cell_type": "markdown",
   "id": "920f364d",
   "metadata": {},
   "source": [
    "## Hyperparameter Tuning"
   ]
  },
  {
   "cell_type": "markdown",
   "id": "0c80b0e6",
   "metadata": {},
   "source": [
    "### Ridge Tuning"
   ]
  },
  {
   "cell_type": "code",
   "execution_count": null,
   "id": "85872ad1",
   "metadata": {},
   "outputs": [],
   "source": [
    "# Ridge Hyperparameters\n",
    "\n",
    "from scipy.stats import uniform\n",
    "ridge_param_dist = {\n",
    "    'regressor__alpha': uniform(loc=0.01, scale=10)  # alpha from 0.01 to 10.01 (continuous uniform)\n",
    "}"
   ]
  },
  {
   "cell_type": "code",
   "execution_count": null,
   "id": "a0ac49d2",
   "metadata": {},
   "outputs": [],
   "source": [
    "from sklearn.model_selection import RandomizedSearchCV\n",
    "\n",
    "ridge_rf = RandomizedSearchCV(estimator=ridge_pipeline,\n",
    "                              param_distributions=ridge_param_dist,\n",
    "                              n_iter=100,\n",
    "                              cv=5,\n",
    "                              verbose=True,\n",
    "                              n_jobs=1,\n",
    "                              random_state=42)\n",
    "\n",
    "ridge_rf.fit(X_train, y_train)"
   ]
  },
  {
   "cell_type": "code",
   "execution_count": null,
   "id": "e0227566",
   "metadata": {},
   "outputs": [],
   "source": [
    "ridge_rf.best_params_"
   ]
  },
  {
   "cell_type": "code",
   "execution_count": null,
   "id": "1f597593",
   "metadata": {},
   "outputs": [],
   "source": [
    "ridge_rf.score(X_test, y_test)"
   ]
  },
  {
   "cell_type": "code",
   "execution_count": null,
   "id": "ef0ec505",
   "metadata": {},
   "outputs": [],
   "source": [
    "ridge_pipeline = Pipeline(steps=[\n",
    "    ('preprocessor', preprocessor),\n",
    "    ('regressor', Ridge(alpha=6.8523302651215685))\n",
    "])\n",
    "\n",
    "ridge_pipeline.fit(X_train, y_train)\n",
    "ridge_pipeline.score(X_test, y_test)"
   ]
  }
 ],
 "metadata": {
  "kernelspec": {
   "display_name": "testvenv",
   "language": "python",
   "name": "python3"
  },
  "language_info": {
   "codemirror_mode": {
    "name": "ipython",
    "version": 3
   },
   "file_extension": ".py",
   "mimetype": "text/x-python",
   "name": "python",
   "nbconvert_exporter": "python",
   "pygments_lexer": "ipython3",
   "version": "3.13.5"
  }
 },
 "nbformat": 4,
 "nbformat_minor": 5
}
